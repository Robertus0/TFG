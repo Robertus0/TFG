{
 "cells": [
  {
   "cell_type": "code",
   "execution_count": 1,
   "metadata": {},
   "outputs": [],
   "source": [
    "import os\n",
    "# Seleccio GPUs visibles\n",
    "os.environ[\"CUDA_DEVICE_ORDER\"]=\"PCI_BUS_ID\" \n",
    "os.environ[\"CUDA_VISIBLE_DEVICES\"]=\"3,4\""
   ]
  },
  {
   "cell_type": "code",
   "execution_count": 2,
   "metadata": {
    "id": "lT0DfCbyw54I"
   },
   "outputs": [
    {
     "name": "stdout",
     "output_type": "stream",
     "text": [
      "/tf/detectron2\n"
     ]
    }
   ],
   "source": [
    "import torch\n",
    "import torch.optim as optim\n",
    "import torchvision\n",
    "from torchvision import transforms\n",
    "from torchvision.transforms.functional import to_tensor\n",
    "from torchvision.transforms import Resize\n",
    "from torch.utils.data import DataLoader\n",
    "import torch.nn.functional as F\n",
    "import torchvision.transforms.functional as TF\n",
    "import torch.nn as nn\n",
    "%cd /tf/detectron2\n",
    "import detectron2\n",
    "from detectron2.data.datasets import register_coco_instances\n",
    "from detectron2.data import MetadataCatalog\n",
    "from detectron2.data import DatasetCatalog\n",
    "from detectron2.data import transforms as T\n",
    "from detectron2.utils.logger import setup_logger\n",
    "setup_logger()\n",
    "from PIL import Image, ImageDraw\n",
    "from scipy.optimize import linear_sum_assignment\n",
    "import torch.nn.functional as F\n",
    "from tqdm import tqdm\n",
    "import matplotlib.pyplot as plt\n",
    "import matplotlib.patches as patches\n",
    "import numpy as np\n",
    "import json\n",
    "from torchviz import make_dot\n",
    "import copy\n",
    "from sklearn.metrics import precision_recall_fscore_support, roc_curve"
   ]
  },
  {
   "cell_type": "code",
   "execution_count": 3,
   "metadata": {
    "id": "eBkFi3JlsLwt"
   },
   "outputs": [],
   "source": [
    "# xmin, ymin, xmax, ymax to xmin, ymin, w, h\n",
    "def xyxy_to_xywh(coordenadas, clamp=False):\n",
    "    if type(coordenadas) != type(torch.tensor(0)):\n",
    "        coordenadas = torch.tensor(coordenadas)\n",
    "    coordenadas = torch.stack((coordenadas[:, 0],\n",
    "                               coordenadas[:, 1],\n",
    "                               coordenadas[:, 2] - coordenadas[:, 0],\n",
    "                               coordenadas[:, 3] - coordenadas[:, 1]\n",
    "                               ), dim=1)\n",
    "    if clamp:\n",
    "        coordenadas = torch.clamp(coordenadas, min=0, max=1)\n",
    "    return coordenadas\n",
    "\n",
    "# xmin, ymin, w, h to xmin, ymin, xmax, ymax\n",
    "def xywh_to_xyxy(coordenadas, clamp=False):\n",
    "    if type(coordenadas) != type(torch.tensor(0)):\n",
    "        coordenadas = torch.tensor(coordenadas)\n",
    "    coordenadas = torch.stack((coordenadas[:, 0], \n",
    "                               coordenadas[:, 1], \n",
    "                               coordenadas[:, 0] + coordenadas[:, 2],\n",
    "                               coordenadas[:, 1] + coordenadas[:, 3]\n",
    "                               ), dim=1)\n",
    "    if clamp:\n",
    "        coordenadas = torch.clamp(coordenadas, min=0, max=1)    \n",
    "    return coordenadas\n",
    "\n",
    "# cx, cy, w, h to xmin, ymin, xmax, ymax\n",
    "def cxcywh_to_xyxy(coordenadas, clamp=False):\n",
    "    if type(coordenadas) != type(torch.tensor(0)):\n",
    "        coordenadas = torch.tensor(coordenadas)\n",
    "    coordenadas = torch.stack((coordenadas[:, 0] - coordenadas[:, 2] / 2,\n",
    "                               coordenadas[:, 1] - coordenadas[:, 3] / 2,\n",
    "                               coordenadas[:, 0] + coordenadas[:, 2] / 2,\n",
    "                               coordenadas[:, 1] + coordenadas[:, 3] / 2\n",
    "                               ), dim=1)\n",
    "    if clamp:\n",
    "        coordenadas = torch.clamp(coordenadas, min=0, max=1)    \n",
    "    return coordenadas\n",
    "\n",
    "# xmin, ymin, xmax, ymax to cx, cy, w, h\n",
    "def xyxy_to_cxcywh(coordenadas, clamp=False):\n",
    "    if type(coordenadas) != type(torch.tensor(0)):\n",
    "        coordenadas = torch.tensor(coordenadas)\n",
    "    coordenadas = torch.stack(((coordenadas[:, 0] + coordenadas[:, 2]) / 2,\n",
    "                               (coordenadas[:, 1] + coordenadas[:, 3]) / 2,\n",
    "                               coordenadas[:, 2] - coordenadas[:, 0],\n",
    "                               coordenadas[:, 3] - coordenadas[:, 1]\n",
    "                               ), dim=1)\n",
    "    if clamp:\n",
    "        coordenadas = torch.clamp(coordenadas, min=0, max=1)    \n",
    "    return coordenadas\n",
    "\n",
    "# cx, cy, w, h to xmin, ymin, w, h\n",
    "def cxcywh_to_xywh(coordenadas, clamp=False):\n",
    "    if type(coordenadas) != type(torch.tensor(0)):\n",
    "        coordenadas = torch.tensor(coordenadas)\n",
    "    coordenadas = torch.stack((coordenadas[:, 0] - coordenadas[:, 2] / 2,\n",
    "                               coordenadas[:, 1] - coordenadas[:, 3] / 2,\n",
    "                               coordenadas[:, 2],\n",
    "                               coordenadas[:, 3]\n",
    "                               ), dim=1)\n",
    "    if clamp:\n",
    "        coordenadas = torch.clamp(coordenadas, min=0, max=1)    \n",
    "    return coordenadas"
   ]
  },
  {
   "cell_type": "code",
   "execution_count": 4,
   "metadata": {
    "id": "xPUzfM9-xFKz"
   },
   "outputs": [],
   "source": [
    "class PoolDetectionModel(nn.Module):\n",
    "    def __init__(self, num_classes, num_predictions = 100):\n",
    "        super(PoolDetectionModel, self).__init__()\n",
    "        \n",
    "        # Cargamos el modelo pre-entrenado\n",
    "        self.model = torch.hub.load('facebookresearch/detr:main', 'detr_resnet50', pretrained=True)\n",
    "\n",
    "        # Cambiamos el número de clases de salida\n",
    "        hidden_dim = self.model.transformer.d_model\n",
    "        self.model.num_classes = num_classes\n",
    "        self.model.class_embed = nn.Linear(hidden_dim, num_classes)\n",
    "        \n",
    "#         if num_predictions != False:\n",
    "          # Cambiamos el número predicciones\n",
    "#         num_query = self.model.transformer.d_model\n",
    "#         self.model.query_embed = nn.Sequential(nn.Embedding(num_predictions, num_query),\n",
    "#                                                  nn.Sigmoid()\n",
    "#                                                 )\n",
    "                \n",
    "    def forward(self, x):\n",
    "        # Pasamos las imágenes por el modelo pre-entrenado\n",
    "        outputs = self.model(x)\n",
    "        \n",
    "        # Obtenemos las cajas y las etiquetas de las predicciones\n",
    "        outputs['pred_logits'] = torch.sigmoid(outputs['pred_logits'])\n",
    "        \n",
    "        # Devolvemos las cajas y las etiquetas\n",
    "        return outputs"
   ]
  },
  {
   "cell_type": "code",
   "execution_count": 5,
   "metadata": {},
   "outputs": [],
   "source": [
    "def declarar_modelo(paths, paramaters, Load_model = False):\n",
    "    # Calculate current number of test\n",
    "    current_test = get_current_test(paths[\"tests\"])\n",
    "    if Load_model:\n",
    "        # Load model\n",
    "        model = PoolDetectionModel(num_classes=paramaters[\"num_classes\"], num_predictions = paramaters[\"num_predictions\"])\n",
    "        # Path to current test\n",
    "        path_current_test = f'{paths[\"tests\"]}test {current_test}/'\n",
    "        paths[\"test\"] = path_current_test\n",
    "        # Calculate current epoch in test\n",
    "        current_epoch = get_current_epoch(path_current_test)\n",
    "        # Load model parameters\n",
    "        model = torch.load(f'{path_current_test}model_{current_epoch}.pt')\n",
    "        # Get previus losses\n",
    "        with open(f\"{path_current_test}model_loss_{current_epoch}.json\", 'r') as f:\n",
    "            train_loss = json.load(f)\n",
    "        with open(f\"{path_current_test}parameters.json\", 'r') as f:\n",
    "            paramaters = json.load(f)\n",
    "        paramaters[\"current_epoch\"] = current_epoch+1\n",
    "        print(f\"Load model {path_current_test}model_{current_epoch}.pt\")\n",
    "        print(f\"Load parameters {paramaters}\")\n",
    "    else:\n",
    "        # Create list of losses\n",
    "        train_loss = []\n",
    "        # Load model\n",
    "        model = PoolDetectionModel(num_classes=paramaters[\"num_classes\"])#, num_predictions = paramaters[\"num_predictions\"])\n",
    "        # Path to new test\n",
    "        path_current_test = f'{paths[\"tests\"]}test {current_test+1}/'\n",
    "        # Create directori of the new test\n",
    "        os.makedirs(path_current_test)\n",
    "        # Save parameters\n",
    "        with open(f\"{path_current_test}parameters.json\", 'w') as f:\n",
    "            json.dump(paramaters, f)\n",
    "        paths[\"test\"] = path_current_test\n",
    "        paramaters[\"current_epoch\"] = 1\n",
    "        print(\"New Model\")\n",
    "        print(path_current_test)\n",
    "        print(f\"Parameters {paramaters}\")\n",
    "    return model, paramaters, train_loss\n",
    "\n",
    "def get_current_epoch(path):\n",
    "    list_names = os.listdir(path)\n",
    "    list_names = [int(namefile[6:-3]) for namefile in list_names if namefile.endswith(\".pt\")]\n",
    "    return max(list_names)\n",
    "\n",
    "def get_current_test(path):\n",
    "    list_tests = sorted(os.listdir(path))\n",
    "    list_tests.pop(0)\n",
    "    list_tests = [int(namefile[5:]) for namefile in list_tests]\n",
    "    return max(list_tests)"
   ]
  },
  {
   "cell_type": "code",
   "execution_count": 6,
   "metadata": {
    "id": "QnB9AG1tvm8G"
   },
   "outputs": [],
   "source": [
    "def collate_fn(batch):\n",
    "    images = []\n",
    "    targets = []\n",
    "    # Define the normalization transform\n",
    "    resize = transforms.Resize(new_size, antialias=None)\n",
    "    normalize = transforms.Normalize(mean=[0.53016539, 0.48067732, 0.410102], std=[0.25151319, 0.2374013, 0.23417556])\n",
    "    transform = transforms.Compose([transforms.ToTensor(), resize, normalize])\n",
    "    for sample in batch:\n",
    "        image = Image.open(sample['file_name']).convert('RGB')\n",
    "        width, height = image.size\n",
    "        # Transformar la imagen\n",
    "        image = transform(image)\n",
    "        # Adaptar las anotaciones\n",
    "        annotations = copy.deepcopy(sample['annotations'])\n",
    "        for ann in annotations:\n",
    "            bbox = ann['bbox']\n",
    "            x_original, y_original, w_original, h_original = bbox\n",
    "            x_new = x_original / width #* new_size[1]\n",
    "            y_new = y_original / height #* new_size[0]\n",
    "            w_new = w_original / width #* new_size[1]\n",
    "            h_new = h_original / height #* new_size[0]\n",
    "            ann['bbox'] = [x_new, y_new, w_new, h_new]\n",
    "#             print(ann['bbox'])\n",
    "        \n",
    "        # Añadir la imagen y las anotaciones a la lista\n",
    "        if len(annotations) != 0:\n",
    "            images.append(image)\n",
    "            targets.append({'boxes': [ann['bbox'] for ann in annotations], 'labels': [1 for ann in annotations], \"image_id\": sample['image_id']})\n",
    "    return images, targets"
   ]
  },
  {
   "cell_type": "code",
   "execution_count": 7,
   "metadata": {
    "id": "-ZWrtbXfxAK2"
   },
   "outputs": [],
   "source": [
    "def train(model, optimizer, data_loader, device, losses, epochs, current_epoch):\n",
    "    model.train()\n",
    "\n",
    "    for name, param in model.named_parameters():\n",
    "        if \"class_embed\" not in name and \"bbox_embed\" not in name:\n",
    "            param.requires_grad = False\n",
    "        else:\n",
    "            print(\"No congelando:\", name)\n",
    "    for epoch in range(current_epoch, epochs):\n",
    "        print(\"\\nEpoch:\", epoch, \"\\n\")\n",
    "        loss_epoch = []\n",
    "        for images_, targets_ in tqdm(data_loader):\n",
    "            images = copy.deepcopy(images_)\n",
    "            targets = copy.deepcopy(targets_)\n",
    "            images = [image.to(device) for image in images]\n",
    "            targets = [{k: v for k, v in t.items()} for t in targets]\n",
    "            optimizer.zero_grad()\n",
    "            output = model(images)\n",
    "            loss = hungarian_loss_2(output, targets)\n",
    "            loss.backward()\n",
    "            torch.nn.utils.clip_grad_norm_(model.parameters(), max_norm = 0.1, norm_type = 2)\n",
    "#             make_dot(loss, params=dict(model.named_parameters()), show_attrs=True, show_saved=True).render('graph', format='pdf', directory='/tf')\n",
    "#             return\n",
    "            optimizer.step()\n",
    "            scheduler.step()\n",
    "            loss = loss.item()/len(images)\n",
    "            loss_epoch.append(loss)\n",
    "#           if len(losses) > 2 and abs(losses[-1] - losses[-2]) < 10**-6:\n",
    "#             return\n",
    "        losses = losses+loss_epoch\n",
    "        torch.save(model, f\"{paths['test']}model_{epoch}.pt\")\n",
    "        with open(f\"{paths['test']}model_loss_{epoch}.json\", 'w') as f:\n",
    "            json.dump(losses, f)\n",
    "        paramaters[\"current_epoch\"] = epoch+1\n",
    "        print(\" Model saved\")\n",
    "        print(\"loss:\", loss)\n",
    "        print(cxcywh_to_xyxy(output[\"pred_boxes\"][0])[0])\n",
    "\n",
    "    return\n"
   ]
  },
  {
   "cell_type": "code",
   "execution_count": 8,
   "metadata": {},
   "outputs": [],
   "source": [
    "def hungarian_loss_2(outputs, targets):\n",
    "    # reorder outputs and targets based in the hungarian algorithm without breaking the computation graph\n",
    "    # outputs are the predicted bounding boxes and labels in the format ([batch_size, num_queries, 4], [batch_size, num_queries, num_classes])\n",
    "    # targets are the ground truth bounding boxes and labels in the format [{'boxes': [x1, y1, x2, y2], 'labels': [0, 1, 2, 3]}, {'boxes': [x1, y1, x2, y2], 'labels': [0, 1, 2, 3]}]\n",
    "    # the loss is calculated as the sum of the l1 loss, the iou loss and the classification loss    \n",
    "    # convert the targets to the same format as the outputs\n",
    "    true_boxes = [torch.tensor(target['boxes'], dtype=torch.float32).to(device) for target in targets]\n",
    "    true_labels = [torch.tensor(target['labels'], dtype=torch.float32).to(device) for target in targets]\n",
    "    \n",
    "    l1 = 0\n",
    "    iou = 0\n",
    "    classification = 0\n",
    "    \n",
    "    for n in range(len(true_boxes)):\n",
    "        row_ind, col_ind = hungarian((xywh_to_xyxy(true_boxes[n]), true_labels[n]), (cxcywh_to_xyxy(outputs[\"pred_boxes\"][n]), outputs['pred_logits'][n]))\n",
    "        # Calculate the losses\n",
    "        p_boxes = cxcywh_to_xyxy(outputs[\"pred_boxes\"][n][row_ind])\n",
    "        t_boxes = xywh_to_xyxy(true_boxes[n][col_ind])\n",
    "        mask_row = torch.ones(outputs['pred_logits'][n].shape, dtype=torch.bool)\n",
    "        mask_row[row_ind] = False\n",
    "        p_label = torch.cat((outputs['pred_logits'][n][row_ind], outputs['pred_logits'][n][mask_row].unsqueeze(1)), 0)\n",
    "        t_label = torch.cat((true_labels[n][col_ind].unsqueeze(1), torch.zeros(p_label.shape[0]-len(col_ind)).to(device).unsqueeze(1)))\n",
    "        l1 = l1 + torch.nn.functional.l1_loss(p_boxes, t_boxes)\n",
    "        # iou = torchvision.ops.complete_box_iou_loss(pred_boxes, true_boxes, reduction = \"mean\")\n",
    "#         print(cxcywh_to_xyxy(outputs[\"pred_boxes\"][n][row_ind])[0], xywh_to_xyxy(true_boxes[n][col_ind])[0])\n",
    "        iou = iou + torchvision.ops.generalized_box_iou_loss(p_boxes, t_boxes, reduction = \"mean\")\n",
    "        classification = classification + torch.nn.functional.binary_cross_entropy(p_label, t_label)\n",
    "\n",
    "    # Combinamos las losses\n",
    "    l1_weight, iou_weight, classification_weight = 5, 2, 2\n",
    "    loss = l1_weight * l1 + iou_weight * iou + classification_weight * classification    \n",
    "    return loss\n",
    "\n",
    "def hungarian(true, pred):\n",
    "    true_boxes, true_labels = true\n",
    "    boxes, labels = pred\n",
    "    \n",
    "    true_labels = true_labels.unsqueeze(1)\n",
    "    \n",
    "    # Calculamos el costo de emparejamiento entre las cajas predichas y verdaderas\n",
    "    cost_boxes = torch.cdist(boxes, true_boxes, p=1)\n",
    "    \n",
    "    # Calculamos el costo de emparejamiento entre las etiquetas predichas y verdaderas\n",
    "    cost_labels = torch.cdist(labels, true_labels, p=1)\n",
    "    \n",
    "    # Combinamos los costos\n",
    "    cost = cost_boxes + cost_labels\n",
    "    \n",
    "    # Resolvemos el problema de asignación lineal\n",
    "    row_ind, col_ind = linear_sum_assignment(cost.cpu().detach().numpy())\n",
    "    \n",
    "    return row_ind, col_ind"
   ]
  },
  {
   "cell_type": "code",
   "execution_count": 9,
   "metadata": {},
   "outputs": [],
   "source": [
    "def collate_fn_memoria(batch):\n",
    "    images = []\n",
    "    targets = []\n",
    "    for sample in batch:\n",
    "        if sample[\"image_id\"] < len(list_images):\n",
    "            images.append(list_images[sample[\"image_id\"]-1])\n",
    "            targets.append(list_targets[sample[\"image_id\"]-1])\n",
    "    return images, targets"
   ]
  },
  {
   "cell_type": "code",
   "execution_count": 10,
   "metadata": {},
   "outputs": [],
   "source": [
    "def Cargar_dataset_memoria(dataset, batch_size):\n",
    "    images = []\n",
    "    targets = []\n",
    "    resize = transforms.Resize(new_size, antialias=None)\n",
    "    normalize = transforms.Normalize(mean=[0.53016539, 0.48067732, 0.410102], std=[0.25151319, 0.2374013, 0.23417556])\n",
    "    transform = transforms.Compose([transforms.ToTensor(), resize, normalize])\n",
    "    for sample in tqdm(dataset):\n",
    "        # Define the normalization transform\n",
    "        image = Image.open(sample['file_name']).convert('RGB')\n",
    "        width, height = image.size\n",
    "        # Transformar la imagen\n",
    "        image = transform(image)\n",
    "        # Adaptar las anotaciones\n",
    "        annotations = sample['annotations']\n",
    "        for ann in annotations:\n",
    "            bbox = ann['bbox']\n",
    "            x_original, y_original, w_original, h_original = bbox\n",
    "            x_new = x_original / width #* new_size[1]\n",
    "            y_new = y_original / height #* new_size[0]\n",
    "            w_new = w_original / width #* new_size[1]\n",
    "            h_new = h_original / height #* new_size[0]\n",
    "            ann['bbox'] = [x_new, y_new, w_new, h_new]\n",
    "        # Añadir la imagen y las anotaciones a la lista\n",
    "        if len(annotations) != 0:\n",
    "            images.append(image)\n",
    "            targets.append({'boxes': [ann['bbox'] for ann in annotations], 'labels': [1 for ann in annotations if ann['category_id'] == 0]})\n",
    "    return images, targets"
   ]
  },
  {
   "cell_type": "code",
   "execution_count": 11,
   "metadata": {},
   "outputs": [
    {
     "name": "stderr",
     "output_type": "stream",
     "text": [
      "Using cache found in /root/.cache/torch/hub/facebookresearch_detr_main\n",
      "/usr/local/lib/python3.8/dist-packages/torchvision/models/_utils.py:208: UserWarning: The parameter 'pretrained' is deprecated since 0.13 and may be removed in the future, please use 'weights' instead.\n",
      "  warnings.warn(\n",
      "/usr/local/lib/python3.8/dist-packages/torchvision/models/_utils.py:223: UserWarning: Arguments other than a weight enum or `None` for 'weights' are deprecated since 0.13 and may be removed in the future. The current behavior is equivalent to passing `weights=ResNet50_Weights.IMAGENET1K_V1`. You can also use `weights=ResNet50_Weights.DEFAULT` to get the most up-to-date weights.\n",
      "  warnings.warn(msg)\n"
     ]
    },
    {
     "name": "stdout",
     "output_type": "stream",
     "text": [
      "Load model /tf/data/tmp/PoolsDS/Dataset improved 4/tests/test 58/model_299.pt\n",
      "Load parameters {'learning_rate': 0.0001, 'max_lr': 0.0001, 'momentum': 0.9, 'batch_size': 8, 'epochs': 500, 'num_classes': 1, 'num_predictions': 300, 'weight_decay': 0.0001, 'notes': '', 'current_epoch': 300}\n",
      "Comprobando device\n",
      "Utilizando : cuda\n"
     ]
    }
   ],
   "source": [
    "path_dataset = \"/tf/data/tmp/PoolsDS/Dataset improved 4/\"\n",
    "paths = {\"dataset\": f\"{path_dataset}\",\n",
    "         \"tests\": f\"{path_dataset}tests/\",\n",
    "         \"annotations_train\": f\"{path_dataset}train/_annotations.coco.json\",\n",
    "         \"annotations_test\": f\"{path_dataset}test/_annotations.coco.json\",\n",
    "         \"annotations_validation\": f\"{path_dataset}valid/_annotations.coco.json\",\n",
    "         \"images_train\": f\"{path_dataset}train/\",\n",
    "         \"images_test\": f\"{path_dataset}test/\",\n",
    "         \"images_validation\": f\"{path_dataset}valid/\"\n",
    "         }\n",
    "\n",
    "paramaters = {\"learning_rate\": 10**(-4),\n",
    "              \"max_lr\": 10**(-3),\n",
    "              \"momentum\": 0.9,\n",
    "              \"batch_size\": 4,\n",
    "              \"epochs\": 100, \n",
    "              \"num_classes\": 1,\n",
    "              \"num_predictions\": 100,\n",
    "              \"weight_decay\": 10**(-4)\n",
    "              }\n",
    "\n",
    "\n",
    "Load_model = True\n",
    "new_size = (700, 700)\n",
    "\n",
    "# Declarar el modelo \n",
    "model, paramaters, train_loss = declarar_modelo(paths, paramaters, Load_model = Load_model)\n",
    "\n",
    "# Declarar el optimizador\n",
    "# optimizer = optim.SGD(model.parameters(), lr=paramaters[\"learning_rate\"], momentum=paramaters[\"momentum\"])\n",
    "optimizer = optim.AdamW(model.parameters(), lr=paramaters[\"learning_rate\"], weight_decay=paramaters[\"weight_decay\"])\n",
    "\n",
    "# Declarar el scheduler\n",
    "scheduler = torch.optim.lr_scheduler.CyclicLR(optimizer, base_lr=paramaters[\"learning_rate\"], max_lr=paramaters[\"max_lr\"], cycle_momentum=False)\n",
    "# scheduler = None\n",
    "print(\"Comprobando device\")\n",
    "# Declarar el dispositivo\n",
    "device = torch.device('cuda' if torch.cuda.is_available() else 'cpu')\n",
    "print(\"Utilizando :\", device)\n",
    "\n",
    "# Mover el modelo y el DataLoader al dispositivo\n",
    "model.to(device);"
   ]
  },
  {
   "cell_type": "code",
   "execution_count": 12,
   "metadata": {
    "scrolled": true
   },
   "outputs": [
    {
     "name": "stdout",
     "output_type": "stream",
     "text": [
      "Load data\n"
     ]
    },
    {
     "ename": "KeyboardInterrupt",
     "evalue": "",
     "output_type": "error",
     "traceback": [
      "\u001b[0;31m---------------------------------------------------------------------------\u001b[0m",
      "\u001b[0;31mKeyboardInterrupt\u001b[0m                         Traceback (most recent call last)",
      "Cell \u001b[0;32mIn[12], line 9\u001b[0m\n\u001b[1;32m      7\u001b[0m \u001b[38;5;66;03m# Cargar la instancia de COCO como un objeto Dataset\u001b[39;00m\n\u001b[1;32m      8\u001b[0m dataset_name \u001b[38;5;241m=\u001b[39m \u001b[38;5;124m\"\u001b[39m\u001b[38;5;124mpiscinas_entrenamiento\u001b[39m\u001b[38;5;124m\"\u001b[39m\n\u001b[0;32m----> 9\u001b[0m dataset \u001b[38;5;241m=\u001b[39m \u001b[43mDatasetCatalog\u001b[49m\u001b[38;5;241;43m.\u001b[39;49m\u001b[43mget\u001b[49m\u001b[43m(\u001b[49m\u001b[43mdataset_name\u001b[49m\u001b[43m)\u001b[49m\n\u001b[1;32m     10\u001b[0m \u001b[38;5;66;03m# Obtener metadatos del dataset\u001b[39;00m\n\u001b[1;32m     11\u001b[0m metadata \u001b[38;5;241m=\u001b[39m MetadataCatalog\u001b[38;5;241m.\u001b[39mget(dataset_name)\n",
      "File \u001b[0;32m/tf/detectron2/detectron2/data/catalog.py:58\u001b[0m, in \u001b[0;36m_DatasetCatalog.get\u001b[0;34m(self, name)\u001b[0m\n\u001b[1;32m     52\u001b[0m \u001b[38;5;28;01mexcept\u001b[39;00m \u001b[38;5;167;01mKeyError\u001b[39;00m \u001b[38;5;28;01mas\u001b[39;00m e:\n\u001b[1;32m     53\u001b[0m     \u001b[38;5;28;01mraise\u001b[39;00m \u001b[38;5;167;01mKeyError\u001b[39;00m(\n\u001b[1;32m     54\u001b[0m         \u001b[38;5;124m\"\u001b[39m\u001b[38;5;124mDataset \u001b[39m\u001b[38;5;124m'\u001b[39m\u001b[38;5;132;01m{}\u001b[39;00m\u001b[38;5;124m'\u001b[39m\u001b[38;5;124m is not registered! Available datasets are: \u001b[39m\u001b[38;5;132;01m{}\u001b[39;00m\u001b[38;5;124m\"\u001b[39m\u001b[38;5;241m.\u001b[39mformat(\n\u001b[1;32m     55\u001b[0m             name, \u001b[38;5;124m\"\u001b[39m\u001b[38;5;124m, \u001b[39m\u001b[38;5;124m\"\u001b[39m\u001b[38;5;241m.\u001b[39mjoin(\u001b[38;5;28mlist\u001b[39m(\u001b[38;5;28mself\u001b[39m\u001b[38;5;241m.\u001b[39mkeys()))\n\u001b[1;32m     56\u001b[0m         )\n\u001b[1;32m     57\u001b[0m     ) \u001b[38;5;28;01mfrom\u001b[39;00m \u001b[38;5;21;01me\u001b[39;00m\n\u001b[0;32m---> 58\u001b[0m \u001b[38;5;28;01mreturn\u001b[39;00m \u001b[43mf\u001b[49m\u001b[43m(\u001b[49m\u001b[43m)\u001b[49m\n",
      "File \u001b[0;32m/tf/detectron2/detectron2/data/datasets/coco.py:500\u001b[0m, in \u001b[0;36mregister_coco_instances.<locals>.<lambda>\u001b[0;34m()\u001b[0m\n\u001b[1;32m    498\u001b[0m \u001b[38;5;28;01massert\u001b[39;00m \u001b[38;5;28misinstance\u001b[39m(image_root, (\u001b[38;5;28mstr\u001b[39m, os\u001b[38;5;241m.\u001b[39mPathLike)), image_root\n\u001b[1;32m    499\u001b[0m \u001b[38;5;66;03m# 1. register a function which returns dicts\u001b[39;00m\n\u001b[0;32m--> 500\u001b[0m DatasetCatalog\u001b[38;5;241m.\u001b[39mregister(name, \u001b[38;5;28;01mlambda\u001b[39;00m: \u001b[43mload_coco_json\u001b[49m\u001b[43m(\u001b[49m\u001b[43mjson_file\u001b[49m\u001b[43m,\u001b[49m\u001b[43m \u001b[49m\u001b[43mimage_root\u001b[49m\u001b[43m,\u001b[49m\u001b[43m \u001b[49m\u001b[43mname\u001b[49m\u001b[43m)\u001b[49m)\n\u001b[1;32m    502\u001b[0m \u001b[38;5;66;03m# 2. Optionally, add metadata about this dataset,\u001b[39;00m\n\u001b[1;32m    503\u001b[0m \u001b[38;5;66;03m# since they might be useful in evaluation, visualization or logging\u001b[39;00m\n\u001b[1;32m    504\u001b[0m MetadataCatalog\u001b[38;5;241m.\u001b[39mget(name)\u001b[38;5;241m.\u001b[39mset(\n\u001b[1;32m    505\u001b[0m     json_file\u001b[38;5;241m=\u001b[39mjson_file, image_root\u001b[38;5;241m=\u001b[39mimage_root, evaluator_type\u001b[38;5;241m=\u001b[39m\u001b[38;5;124m\"\u001b[39m\u001b[38;5;124mcoco\u001b[39m\u001b[38;5;124m\"\u001b[39m, \u001b[38;5;241m*\u001b[39m\u001b[38;5;241m*\u001b[39mmetadata\n\u001b[1;32m    506\u001b[0m )\n",
      "File \u001b[0;32m/tf/detectron2/detectron2/data/datasets/coco.py:69\u001b[0m, in \u001b[0;36mload_coco_json\u001b[0;34m(json_file, image_root, dataset_name, extra_annotation_keys)\u001b[0m\n\u001b[1;32m     67\u001b[0m json_file \u001b[38;5;241m=\u001b[39m PathManager\u001b[38;5;241m.\u001b[39mget_local_path(json_file)\n\u001b[1;32m     68\u001b[0m \u001b[38;5;28;01mwith\u001b[39;00m contextlib\u001b[38;5;241m.\u001b[39mredirect_stdout(io\u001b[38;5;241m.\u001b[39mStringIO()):\n\u001b[0;32m---> 69\u001b[0m     coco_api \u001b[38;5;241m=\u001b[39m \u001b[43mCOCO\u001b[49m\u001b[43m(\u001b[49m\u001b[43mjson_file\u001b[49m\u001b[43m)\u001b[49m\n\u001b[1;32m     70\u001b[0m \u001b[38;5;28;01mif\u001b[39;00m timer\u001b[38;5;241m.\u001b[39mseconds() \u001b[38;5;241m>\u001b[39m \u001b[38;5;241m1\u001b[39m:\n\u001b[1;32m     71\u001b[0m     logger\u001b[38;5;241m.\u001b[39minfo(\u001b[38;5;124m\"\u001b[39m\u001b[38;5;124mLoading \u001b[39m\u001b[38;5;132;01m{}\u001b[39;00m\u001b[38;5;124m takes \u001b[39m\u001b[38;5;132;01m{:.2f}\u001b[39;00m\u001b[38;5;124m seconds.\u001b[39m\u001b[38;5;124m\"\u001b[39m\u001b[38;5;241m.\u001b[39mformat(json_file, timer\u001b[38;5;241m.\u001b[39mseconds()))\n",
      "File \u001b[0;32m/usr/local/lib/python3.8/dist-packages/pycocotools/coco.py:86\u001b[0m, in \u001b[0;36mCOCO.__init__\u001b[0;34m(self, annotation_file)\u001b[0m\n\u001b[1;32m     84\u001b[0m \u001b[38;5;28mprint\u001b[39m(\u001b[38;5;124m'\u001b[39m\u001b[38;5;124mDone (t=\u001b[39m\u001b[38;5;132;01m{:0.2f}\u001b[39;00m\u001b[38;5;124ms)\u001b[39m\u001b[38;5;124m'\u001b[39m\u001b[38;5;241m.\u001b[39mformat(time\u001b[38;5;241m.\u001b[39mtime()\u001b[38;5;241m-\u001b[39m tic))\n\u001b[1;32m     85\u001b[0m \u001b[38;5;28mself\u001b[39m\u001b[38;5;241m.\u001b[39mdataset \u001b[38;5;241m=\u001b[39m dataset\n\u001b[0;32m---> 86\u001b[0m \u001b[38;5;28;43mself\u001b[39;49m\u001b[38;5;241;43m.\u001b[39;49m\u001b[43mcreateIndex\u001b[49m\u001b[43m(\u001b[49m\u001b[43m)\u001b[49m\n",
      "File \u001b[0;32m/usr/local/lib/python3.8/dist-packages/pycocotools/coco.py:95\u001b[0m, in \u001b[0;36mCOCO.createIndex\u001b[0;34m(self)\u001b[0m\n\u001b[1;32m     93\u001b[0m \u001b[38;5;28;01mif\u001b[39;00m \u001b[38;5;124m'\u001b[39m\u001b[38;5;124mannotations\u001b[39m\u001b[38;5;124m'\u001b[39m \u001b[38;5;129;01min\u001b[39;00m \u001b[38;5;28mself\u001b[39m\u001b[38;5;241m.\u001b[39mdataset:\n\u001b[1;32m     94\u001b[0m     \u001b[38;5;28;01mfor\u001b[39;00m ann \u001b[38;5;129;01min\u001b[39;00m \u001b[38;5;28mself\u001b[39m\u001b[38;5;241m.\u001b[39mdataset[\u001b[38;5;124m'\u001b[39m\u001b[38;5;124mannotations\u001b[39m\u001b[38;5;124m'\u001b[39m]:\n\u001b[0;32m---> 95\u001b[0m         imgToAnns[\u001b[43mann\u001b[49m\u001b[43m[\u001b[49m\u001b[38;5;124;43m'\u001b[39;49m\u001b[38;5;124;43mimage_id\u001b[39;49m\u001b[38;5;124;43m'\u001b[39;49m\u001b[43m]\u001b[49m]\u001b[38;5;241m.\u001b[39mappend(ann)\n\u001b[1;32m     96\u001b[0m         anns[ann[\u001b[38;5;124m'\u001b[39m\u001b[38;5;124mid\u001b[39m\u001b[38;5;124m'\u001b[39m]] \u001b[38;5;241m=\u001b[39m ann\n\u001b[1;32m     98\u001b[0m \u001b[38;5;28;01mif\u001b[39;00m \u001b[38;5;124m'\u001b[39m\u001b[38;5;124mimages\u001b[39m\u001b[38;5;124m'\u001b[39m \u001b[38;5;129;01min\u001b[39;00m \u001b[38;5;28mself\u001b[39m\u001b[38;5;241m.\u001b[39mdataset:\n",
      "\u001b[0;31mKeyboardInterrupt\u001b[0m: "
     ]
    }
   ],
   "source": [
    "DatasetCatalog.clear()\n",
    "MetadataCatalog.clear()\n",
    "\n",
    "print(\"Load data\")\n",
    "# Registrar instancia de COCO\n",
    "register_coco_instances(\"piscinas_entrenamiento\", {}, paths[\"annotations_train\"], paths[\"images_train\"])\n",
    "# Cargar la instancia de COCO como un objeto Dataset\n",
    "dataset_name = \"piscinas_entrenamiento\"\n",
    "dataset = DatasetCatalog.get(dataset_name)\n",
    "# Obtener metadatos del dataset\n",
    "metadata = MetadataCatalog.get(dataset_name)\n",
    "# Cargar datos a memoria\n",
    "print(\"Cargando datos en memoria\")\n",
    "list_images, list_targets = Cargar_dataset_memoria(dataset, paramaters[\"batch_size\"])\n",
    "# Declarar el DataLoader\n",
    "data_loader_train = DataLoader(dataset, batch_size=paramaters[\"batch_size\"], collate_fn=collate_fn_memoria, shuffle=True)"
   ]
  },
  {
   "cell_type": "code",
   "execution_count": 12,
   "metadata": {},
   "outputs": [],
   "source": [
    "def collate_fn_aumentation(batch):\n",
    "    images = []\n",
    "    targets = []\n",
    "    # Define the normalization transform\n",
    "    resize = transforms.Resize(new_size, antialias=None)\n",
    "    normalize = transforms.Normalize(mean=[0.53016539, 0.48067732, 0.410102], std=[0.25151319, 0.2374013, 0.23417556])\n",
    "    transform = transforms.Compose([transforms.ToTensor(), resize, normalize])\n",
    "    for sample in batch:\n",
    "        image = Image.open(sample['file_name']).convert('RGB')\n",
    "        width, height = image.size\n",
    "        # Transformar la imagen\n",
    "        image = transform(image)\n",
    "        # Adaptar las anotaciones\n",
    "        annotations = copy.deepcopy(sample['annotations'])\n",
    "        for ann in annotations:\n",
    "            bbox = ann['bbox']\n",
    "            x_original, y_original, w_original, h_original = bbox\n",
    "            x_new = x_original / width #* new_size[1]\n",
    "            y_new = y_original / height #* new_size[0]\n",
    "            w_new = w_original / width #* new_size[1]\n",
    "            h_new = h_original / height #* new_size[0]\n",
    "            ann['bbox'] = [x_new, y_new, w_new, h_new]\n",
    "#             print(ann['bbox'])\n",
    "        \n",
    "        # Añadir la imagen y las anotaciones a la lista\n",
    "        if len(annotations) != 0:\n",
    "            images.append(image)\n",
    "            targets.append({'boxes': [ann['bbox'] for ann in annotations], 'labels': [1 for ann in annotations if ann['category_id'] == 0]})\n",
    "    return images, targets"
   ]
  },
  {
   "cell_type": "code",
   "execution_count": 16,
   "metadata": {},
   "outputs": [
    {
     "name": "stdout",
     "output_type": "stream",
     "text": [
      "\u001b[5m\u001b[31mWARNING\u001b[0m \u001b[32m[06/22 15:22:52 d2.data.datasets.coco]: \u001b[0m\n",
      "Category ids in annotations are not in [1, #categories]! We'll apply a mapping for you.\n",
      "\n",
      "\u001b[32m[06/22 15:22:52 d2.data.datasets.coco]: \u001b[0mLoaded 958 images in COCO format from /tf/data/tmp/PoolsDS/Dataset improved 3/valid/_annotations.coco.json\n"
     ]
    }
   ],
   "source": [
    "DatasetCatalog.clear()\n",
    "MetadataCatalog.clear()\n",
    "\n",
    "dataset_name = \"piscinas_valid\"\n",
    "# Registrar instancia de COCO\n",
    "register_coco_instances(dataset_name, {}, paths[\"annotations_validation\"], paths[\"images_validation\"])\n",
    "# Cargar la instancia de COCO como un objeto Dataset\n",
    "dataset = DatasetCatalog.get(dataset_name)\n",
    "# Obtener metadatos del dataset\n",
    "metadata = MetadataCatalog.get(dataset_name)\n",
    "# Declarar el DataLoader\n",
    "data_loader_validation = DataLoader(dataset, batch_size=paramaters[\"batch_size\"], collate_fn=collate_fn)"
   ]
  },
  {
   "cell_type": "code",
   "execution_count": null,
   "metadata": {},
   "outputs": [],
   "source": [
    "model.eval()\n",
    "\n",
    "threshold = 0.9\n",
    "for images, targets in data_loader_validation:\n",
    "    images = [image.to(device) for image in images]\n",
    "    targets = [{k: v for k, v in t.items()} for t in targets]\n",
    "    for n in range(len(images)):\n",
    "        image = images[n].cpu().numpy()\n",
    "        image = np.moveaxis(image, 0, -1)\n",
    "        fig, ax = plt.subplots()\n",
    "        for bounding_box in targets[n][\"boxes\"]:\n",
    "            x, y, w, h = bounding_box\n",
    "            x, y, w, h = x*new_size[0], y*new_size[1], w*new_size[0], h*new_size[1]\n",
    "            bb = patches.Rectangle((x, y), w, h, linewidth=1, edgecolor='r', facecolor='none')\n",
    "            ax.add_patch(bb)\n",
    "        ax.imshow(image)\n",
    "        plt.show()"
   ]
  },
  {
   "cell_type": "code",
   "execution_count": null,
   "metadata": {},
   "outputs": [],
   "source": [
    "print(\"Training begin\")\n",
    "train(model, optimizer, data_loader_train, device, train_loss, paramaters[\"epochs\"], paramaters[\"current_epoch\"])"
   ]
  },
  {
   "cell_type": "code",
   "execution_count": 12,
   "metadata": {},
   "outputs": [],
   "source": [
    "current_test = 58\n",
    "current_epoch = 241\n",
    "path_current_test = f'{paths[\"tests\"]}test {current_test}/'\n",
    "with open(f\"{path_current_test}model_loss_{current_epoch}.json\", 'r') as f:\n",
    "    t_loss, v_loss = json.load(f)\n",
    "model = torch.load(f'{path_current_test}model_{current_epoch}.pt')\n",
    "with open(f\"{path_current_test}parameters.json\", 'r') as f:\n",
    "            paramaters = json.load(f)"
   ]
  },
  {
   "cell_type": "code",
   "execution_count": 13,
   "metadata": {
    "id": "4fD-6OPfTtuZ",
    "scrolled": false
   },
   "outputs": [
    {
     "name": "stdout",
     "output_type": "stream",
     "text": [
      "{'learning_rate': 0.0001, 'max_lr': 0.0001, 'momentum': 0.9, 'batch_size': 8, 'epochs': 500, 'num_classes': 1, 'num_predictions': 300, 'weight_decay': 0.0001, 'notes': ''}\n"
     ]
    },
    {
     "data": {
      "image/png": "[encoded data removed]",
      "text/plain": [
       "<Figure size 640x480 with 1 Axes>"
      ]
     },
     "metadata": {},
     "output_type": "display_data"
    }
   ],
   "source": [
    "plt.plot(t_loss, label=\"train_loss\")\n",
    "plt.plot(v_loss, label=\"validation_loss\")\n",
    "plt.legend()\n",
    "print(paramaters)"
   ]
  },
  {
   "cell_type": "code",
   "execution_count": 14,
   "metadata": {},
   "outputs": [
    {
     "name": "stdout",
     "output_type": "stream",
     "text": [
      "1.1974024965341434 1.1337168549497922 2.3311193514839355 216\n"
     ]
    }
   ],
   "source": [
    "indice = t_loss.index(min(t_loss))\n",
    "print(t_loss[indice], v_loss[indice], t_loss[indice] + v_loss[indice], indice)"
   ]
  },
  {
   "cell_type": "code",
   "execution_count": 15,
   "metadata": {},
   "outputs": [
    {
     "name": "stdout",
     "output_type": "stream",
     "text": [
      "1.2098281000163924 1.080046712193224 2.289874812209616 240\n"
     ]
    }
   ],
   "source": [
    "indice = v_loss.index(min(v_loss))\n",
    "print(t_loss[indice], v_loss[indice], t_loss[indice] + v_loss[indice], indice)"
   ]
  },
  {
   "cell_type": "code",
   "execution_count": 16,
   "metadata": {},
   "outputs": [],
   "source": [
    "def collate_fn_eval(batch):\n",
    "    images = []\n",
    "    targets = []\n",
    "    images_originales = []\n",
    "    # Define the normalization transform\n",
    "    resize = transforms.Resize(new_size, antialias=None)\n",
    "    normalize = transforms.Normalize(mean=[0.53016539, 0.48067732, 0.410102], std=[0.25151319, 0.2374013, 0.23417556])\n",
    "    transform = transforms.Compose([transforms.ToTensor(), resize, normalize])\n",
    "    for sample in batch:\n",
    "        image_original = Image.open(sample['file_name']).convert('RGB')\n",
    "        width, height = image_original.size\n",
    "        # Transformar la imagen\n",
    "        image = transform(image_original)\n",
    "        # Adaptar las anotaciones\n",
    "        annotations = copy.deepcopy(sample['annotations'])\n",
    "        for ann in annotations:\n",
    "            bbox = ann['bbox']\n",
    "            x_original, y_original, w_original, h_original = bbox\n",
    "            x_new = x_original / width #* new_size[1]\n",
    "            y_new = y_original / height #* new_size[0]\n",
    "            w_new = w_original / width #* new_size[1]\n",
    "            h_new = h_original / height #* new_size[0]\n",
    "            ann['bbox'] = [x_new, y_new, w_new, h_new]\n",
    "#             print(ann['bbox'])\n",
    "        \n",
    "        # Añadir la imagen y las anotaciones a la lista\n",
    "        if len(annotations) != 0:\n",
    "            images.append(image)\n",
    "            images_originales.append(image_original)\n",
    "            targets.append({'boxes': [ann['bbox'] for ann in annotations], 'labels': [1 for ann in annotations], \"image_id\": sample['image_id']})\n",
    "    return images, targets, images_originales"
   ]
  },
  {
   "cell_type": "code",
   "execution_count": 17,
   "metadata": {},
   "outputs": [
    {
     "name": "stdout",
     "output_type": "stream",
     "text": [
      "\u001b[5m\u001b[31mWARNING\u001b[0m \u001b[32m[06/29 18:58:15 d2.data.datasets.coco]: \u001b[0m\n",
      "Category ids in annotations are not in [1, #categories]! We'll apply a mapping for you.\n",
      "\n",
      "\u001b[32m[06/29 18:58:15 d2.data.datasets.coco]: \u001b[0mLoaded 937 images in COCO format from /tf/data/tmp/PoolsDS/Dataset improved 4/test/_annotations.coco.json\n"
     ]
    }
   ],
   "source": [
    "DatasetCatalog.clear()\n",
    "MetadataCatalog.clear()\n",
    "\n",
    "# Registrar instancia de COCO\n",
    "register_coco_instances(\"piscinas_test\", {}, paths[\"annotations_test\"], paths[\"images_test\"])\n",
    "# Cargar la instancia de COCO como un objeto Dataset\n",
    "dataset_name = \"piscinas_test\"\n",
    "dataset_test = DatasetCatalog.get(dataset_name)\n",
    "# Obtener metadatos del dataset\n",
    "metadata = MetadataCatalog.get(dataset_name)\n",
    "# Declarar el DataLoader\n",
    "data_loader_test = DataLoader(dataset_test, batch_size=paramaters[\"batch_size\"], collate_fn=collate_fn_eval)"
   ]
  },
  {
   "cell_type": "code",
   "execution_count": null,
   "metadata": {
    "scrolled": true
   },
   "outputs": [],
   "source": [
    "model.eval()\n",
    "\n",
    "threshold = 0.2\n",
    "for n_id, (images, targets, images_originales) in enumerate(data_loader_test):\n",
    "    images = [image.to(device) for image in images]\n",
    "    targets = [{k: v for k, v in t.items()} for t in targets]\n",
    "    output = model(images)\n",
    "    for n in range(len(images)):\n",
    "        image = np.asarray(images_originales[n])\n",
    "#         image = np.moveaxis(image, 0, -1)\n",
    "        mask_1d = output[\"pred_logits\"][n] > threshold\n",
    "        mask = torch.cat((mask_1d, mask_1d, mask_1d, mask_1d), 1)\n",
    "        pred_boxes = cxcywh_to_xywh(output[\"pred_boxes\"][n][mask].reshape(-1, 4))\n",
    "        if pred_boxes.shape[0] > 0:\n",
    "            fig, ax = plt.subplots()\n",
    "            plt.axis('off')\n",
    "            n_preds = len(pred_boxes)\n",
    "            pred_boxes_xyxy = xywh_to_xyxy(pred_boxes)\n",
    "            indices = torchvision.ops.nms(pred_boxes_xyxy, output[\"pred_logits\"][n][mask_1d], 0.5) \n",
    "            pred_boxes = pred_boxes[indices]\n",
    "            print(\"boxes\", pred_boxes.shape[0], len(targets[n][\"boxes\"]))\n",
    "            print(n_id*8+n)\n",
    "            \n",
    "            for bounding_box in pred_boxes:\n",
    "                x, y, w, h = bounding_box.cpu().detach().numpy()\n",
    "                x, y, w, h = x*new_size[0], y*new_size[1], w*new_size[0], h*new_size[1]\n",
    "                bb = patches.Rectangle((x, y), w, h, linewidth=1, edgecolor=\"r\", facecolor='none')\n",
    "                ax.add_patch(bb)\n",
    "            for bounding_box in targets[n][\"boxes\"]:\n",
    "                x, y, w, h = bounding_box\n",
    "                x, y, w, h = x*new_size[0], y*new_size[1], w*new_size[0], h*new_size[1]\n",
    "                bb = patches.Rectangle((x, y), w, h, linewidth=1, edgecolor='b', facecolor='none')\n",
    "                ax.add_patch(bb)\n",
    "            ax.imshow(image)\n",
    "            plt.show()"
   ]
  },
  {
   "cell_type": "code",
   "execution_count": null,
   "metadata": {},
   "outputs": [],
   "source": [
    "model.eval()\n",
    "images_id = [754]\n",
    "\n",
    "threshold = 0.1\n",
    "for n_id, (images, targets, images_originales) in enumerate(data_loader_test):\n",
    "    images = [image.to(device) for image in images]\n",
    "    targets = [{k: v for k, v in t.items()} for t in targets]\n",
    "    output = model(images)\n",
    "    for n in range(len(images)):\n",
    "        image = np.asarray(images_originales[n])\n",
    "#         image = np.moveaxis(image, 0, -1)\n",
    "        mask_1d = output[\"pred_logits\"][n] > threshold\n",
    "        mask = torch.cat((mask_1d, mask_1d, mask_1d, mask_1d), 1)\n",
    "        pred_boxes = cxcywh_to_xywh(output[\"pred_boxes\"][n][mask].reshape(-1, 4))\n",
    "        if pred_boxes.shape[0] > 0:\n",
    "            fig, ax = plt.subplots()\n",
    "            plt.axis('off')\n",
    "            n_preds = len(pred_boxes)\n",
    "            pred_boxes_xyxy = xywh_to_xyxy(pred_boxes)\n",
    "            indices = torchvision.ops.nms(pred_boxes_xyxy, output[\"pred_logits\"][n][mask_1d], 0.5) \n",
    "            pred_boxes = pred_boxes[indices]\n",
    "            if n_id*8+n in images_id:\n",
    "                print(\"boxes\", pred_boxes.shape[0], len(targets[n][\"boxes\"]))\n",
    "                print(n_id*8+n)\n",
    "\n",
    "                for bounding_box in pred_boxes:\n",
    "                    x, y, w, h = bounding_box.cpu().detach().numpy()\n",
    "                    x, y, w, h = x*new_size[0], y*new_size[1], w*new_size[0], h*new_size[1]\n",
    "                    bb = patches.Rectangle((x, y), w, h, linewidth=1, edgecolor=\"r\", facecolor='none')\n",
    "                    ax.add_patch(bb)\n",
    "                for bounding_box in targets[n][\"boxes\"]:\n",
    "                    x, y, w, h = bounding_box\n",
    "                    x, y, w, h = x*new_size[0], y*new_size[1], w*new_size[0], h*new_size[1]\n",
    "                    bb = patches.Rectangle((x, y), w, h, linewidth=1, edgecolor='b', facecolor='none')\n",
    "                    ax.add_patch(bb)\n",
    "                ax.imshow(image)\n",
    "                plt.show()"
   ]
  },
  {
   "cell_type": "code",
   "execution_count": 16,
   "metadata": {},
   "outputs": [
    {
     "name": "stdout",
     "output_type": "stream",
     "text": [
      "\u001b[5m\u001b[31mWARNING\u001b[0m \u001b[32m[06/29 15:56:20 d2.data.datasets.coco]: \u001b[0m\n",
      "Category ids in annotations are not in [1, #categories]! We'll apply a mapping for you.\n",
      "\n",
      "\u001b[32m[06/29 15:56:20 d2.data.datasets.coco]: \u001b[0mLoaded 937 images in COCO format from /tf/data/tmp/PoolsDS/Dataset improved 4/test/_annotations.coco.json\n"
     ]
    }
   ],
   "source": [
    "DatasetCatalog.clear()\n",
    "MetadataCatalog.clear()\n",
    "\n",
    "dataset_name = \"piscinas_test\"\n",
    "# Registrar instancia de COCO\n",
    "register_coco_instances(dataset_name, {}, paths[\"annotations_test\"], paths[\"images_test\"])\n",
    "# Cargar la instancia de COCO como un objeto Dataset\n",
    "dataset = DatasetCatalog.get(dataset_name)\n",
    "# Obtener metadatos del dataset\n",
    "metadata = MetadataCatalog.get(dataset_name)\n",
    "# Declarar el DataLoader\n",
    "data_loader_test = DataLoader(dataset, batch_size=paramaters[\"batch_size\"], collate_fn=collate_fn)"
   ]
  },
  {
   "cell_type": "code",
   "execution_count": 26,
   "metadata": {},
   "outputs": [
    {
     "name": "stdout",
     "output_type": "stream",
     "text": [
      "\u001b[5m\u001b[31mWARNING\u001b[0m \u001b[32m[06/29 15:55:25 d2.data.datasets.coco]: \u001b[0m\n",
      "Category ids in annotations are not in [1, #categories]! We'll apply a mapping for you.\n",
      "\n",
      "\u001b[32m[06/29 15:55:25 d2.data.datasets.coco]: \u001b[0mLoaded 958 images in COCO format from /tf/data/tmp/PoolsDS/Dataset improved 4/valid/_annotations.coco.json\n"
     ]
    }
   ],
   "source": [
    "# DatasetCatalog.clear()\n",
    "# MetadataCatalog.clear()\n",
    "\n",
    "dataset_name = \"piscinas_validation\"\n",
    "# Registrar instancia de COCO\n",
    "register_coco_instances(dataset_name, {}, paths[\"annotations_validation\"], paths[\"images_validation\"])\n",
    "# Cargar la instancia de COCO como un objeto Dataset\n",
    "dataset = DatasetCatalog.get(dataset_name)\n",
    "# Obtener metadatos del dataset\n",
    "metadata = MetadataCatalog.get(dataset_name)\n",
    "# Declarar el DataLoader\n",
    "data_loader_validation = DataLoader(dataset, batch_size=paramaters[\"batch_size\"], collate_fn=collate_fn)"
   ]
  },
  {
   "cell_type": "code",
   "execution_count": 27,
   "metadata": {},
   "outputs": [
    {
     "name": "stdout",
     "output_type": "stream",
     "text": [
      "\u001b[5m\u001b[31mWARNING\u001b[0m \u001b[32m[06/29 15:55:27 d2.data.datasets.coco]: \u001b[0m\n",
      "Category ids in annotations are not in [1, #categories]! We'll apply a mapping for you.\n",
      "\n",
      "\u001b[32m[06/29 15:55:27 d2.data.datasets.coco]: \u001b[0mLoaded 7655 images in COCO format from /tf/data/tmp/PoolsDS/Dataset improved 4/train/_annotations.coco.json\n"
     ]
    }
   ],
   "source": [
    "# DatasetCatalog.clear()\n",
    "# MetadataCatalog.clear()\n",
    "\n",
    "dataset_name = \"piscinas_train\"\n",
    "# Registrar instancia de COCO\n",
    "register_coco_instances(dataset_name, {}, paths[\"annotations_train\"], paths[\"images_train\"])\n",
    "# Cargar la instancia de COCO como un objeto Dataset\n",
    "dataset = DatasetCatalog.get(dataset_name)\n",
    "# Obtener metadatos del dataset\n",
    "metadata = MetadataCatalog.get(dataset_name)\n",
    "# Declarar el DataLoader\n",
    "data_loader_train = DataLoader(dataset, batch_size=paramaters[\"batch_size\"], collate_fn=collate_fn)"
   ]
  },
  {
   "cell_type": "code",
   "execution_count": 17,
   "metadata": {
    "scrolled": true
   },
   "outputs": [],
   "source": [
    "def bbox_iou(box1, box2):\n",
    "    \"\"\"\n",
    "    Calcula el IoU entre dos cajas delimitadoras en formato [x1, y1, x2, y2]\n",
    "    \"\"\"\n",
    "    # Obtener las coordenadas de la intersección\n",
    "    x1 = max(box1[0], box2[0])\n",
    "    y1 = max(box1[1], box2[1])\n",
    "    x2 = min(box1[2], box2[2])\n",
    "    y2 = min(box1[3], box2[3])\n",
    "\n",
    "    # Calcular el área de la intersección\n",
    "    inter_area = max(0, x2 - x1) * max(0, y2 - y1)\n",
    "\n",
    "    # Calcular el área de ambas cajas\n",
    "    box1_area = (box1[2] - box1[0]) * (box1[3] - box1[1])\n",
    "    box2_area = (box2[2] - box2[0]) * (box2[3] - box2[1])\n",
    "\n",
    "    # Calcular el IoU\n",
    "    iou = inter_area / float(box1_area + box2_area - inter_area)\n",
    "\n",
    "    return iou\n",
    "\n",
    "def calculate_bbox_iou(dic_confusion, pred_boxes, true_boxes, threshold):\n",
    "    # indice 0 predicciones\n",
    "    # indice 1 true\n",
    "    n_preds = pred_boxes.shape[0]\n",
    "    n_true = true_boxes.shape[0]\n",
    "    ious = torch.zeros(n_preds, n_true)\n",
    "    for n1 in range(n_preds):\n",
    "        for n2 in range(n_true):\n",
    "            ious[n1, n2] = bbox_iou(pred_boxes[n1, :], true_boxes[n2, :])\n",
    "    true_positives = torch.clamp(torch.sum(ious>threshold, axis=1), 0, 1).sum()\n",
    "    # Calculate true_positives\n",
    "    dic_confusion[\"true_positives\"] += true_positives\n",
    "    # Calculate false_positives\n",
    "    dic_confusion[\"false_positives\"] += n_preds - true_positives\n",
    "    # Calculate false_negatives\n",
    "    dic_confusion[\"false_negatives\"] += n_true - torch.clamp(torch.sum(ious>threshold, axis=0), 0, 1).sum()\n",
    "    \n",
    "def calcular_metricas(model, data_loader, threshold_iou, threshold_preds, show_confusion=False):\n",
    "    model.eval()\n",
    "#     print(\"threshold_preds\", threshold_preds, \"threshold_iou\", threshold_iou)\n",
    "    dic_confusion = {\"true_positives\": 0, \n",
    "                     \"false_positives\": 0,\n",
    "                     \"false_negatives\": 0}\n",
    "#     for images, targets in tqdm(data_loader):\n",
    "#         targets = copy.deepcopy(targets_)\n",
    "    for images, targets in data_loader:\n",
    "        images = [image.to(device) for image in images]\n",
    "        targets = [{k: v for k, v in t.items()} for t in targets]\n",
    "        output = model(images)\n",
    "        for n in range(len(images)):\n",
    "            pred_boxes = output[\"pred_boxes\"][n].detach()\n",
    "            mask_1d = output[\"pred_logits\"][n]>threshold_preds\n",
    "            mask = torch.cat((mask_1d, mask_1d, mask_1d, mask_1d), 1)\n",
    "            pred_boxes = output[\"pred_boxes\"][n][mask].reshape(-1, 4)\n",
    "            pred_logits = output[\"pred_logits\"][n][mask_1d]\n",
    "            if pred_boxes.shape[0]>0:\n",
    "                pred_boxes = cxcywh_to_xyxy(pred_boxes)\n",
    "                indices = torchvision.ops.nms(pred_boxes, output[\"pred_logits\"][n][mask_1d], 0.5) \n",
    "                pred_boxes = pred_boxes[indices]\n",
    "                true_boxes = xywh_to_xyxy(torch.tensor(targets[n][\"boxes\"]))\n",
    "                calculate_bbox_iou(dic_confusion, pred_boxes, true_boxes, threshold_iou)\n",
    "            else:\n",
    "                print(\"Error\")\n",
    "    if show_confusion:\n",
    "        print(dic_confusion)\n",
    "    \n",
    "    precision = dic_confusion[\"true_positives\"] / (dic_confusion[\"true_positives\"] + dic_confusion[\"false_positives\"])\n",
    "    recall = dic_confusion[\"true_positives\"] / (dic_confusion[\"true_positives\"] + dic_confusion[\"false_negatives\"])\n",
    "    f1_score = 2 * (precision * recall) / (precision + recall)\n",
    "    print(f\"{threshold_preds} & {precision:.4f} & {recall:.4f} & {f1_score:.4f} \\\\\\\\\")"
   ]
  },
  {
   "cell_type": "code",
   "execution_count": 57,
   "metadata": {},
   "outputs": [
    {
     "name": "stdout",
     "output_type": "stream",
     "text": [
      "0.5,0.4,0.7067821025848389,0.7199411988258362,0.7133010029792786\n"
     ]
    }
   ],
   "source": [
    "calcular_metricas(model, data_loader_test, threshold_iou = 0.5, threshold_preds = 0.4)"
   ]
  },
  {
   "cell_type": "code",
   "execution_count": 16,
   "metadata": {},
   "outputs": [
    {
     "name": "stdout",
     "output_type": "stream",
     "text": [
      "{'true_positives': tensor(7824), 'false_positives': tensor(1029), 'false_negatives': tensor(3731)}\n",
      "0.5,0.4,0.8837682008743286,0.6771094799041748,0.7667580842971802\n"
     ]
    }
   ],
   "source": [
    "calcular_metricas(model, data_loader_test, threshold_iou = 0.5, threshold_preds = 0.4)"
   ]
  },
  {
   "cell_type": "code",
   "execution_count": 24,
   "metadata": {
    "scrolled": true
   },
   "outputs": [
    {
     "name": "stdout",
     "output_type": "stream",
     "text": [
      "threshold 0.5\n"
     ]
    },
    {
     "name": "stderr",
     "output_type": "stream",
     "text": [
      "100%|██████████| 1915/1915 [10:28<00:00,  3.05it/s]"
     ]
    },
    {
     "name": "stdout",
     "output_type": "stream",
     "text": [
      "{'true_positives': tensor(69791), 'false_positives': tensor(885), 'false_negatives': tensor(2603)}\n",
      "precision tensor(0.9875)\n",
      "recall tensor(0.9640)\n",
      "f1_score tensor(0.9756)\n"
     ]
    },
    {
     "name": "stderr",
     "output_type": "stream",
     "text": [
      "\n"
     ]
    }
   ],
   "source": [
    "calcular_metricas(model, data_loader_train, threshold_iou = 0.5, threshold_preds = 0.75)"
   ]
  },
  {
   "cell_type": "code",
   "execution_count": 27,
   "metadata": {},
   "outputs": [
    {
     "name": "stdout",
     "output_type": "stream",
     "text": [
      "threshold 0.5\n"
     ]
    },
    {
     "name": "stderr",
     "output_type": "stream",
     "text": [
      "100%|██████████| 240/240 [01:18<00:00,  3.05it/s]"
     ]
    },
    {
     "name": "stdout",
     "output_type": "stream",
     "text": [
      "{'true_positives': tensor(8570), 'false_positives': tensor(118), 'false_negatives': tensor(333)}\n",
      "precision tensor(0.9864)\n",
      "recall tensor(0.9626)\n",
      "f1_score tensor(0.9744)\n"
     ]
    },
    {
     "name": "stderr",
     "output_type": "stream",
     "text": [
      "\n"
     ]
    }
   ],
   "source": [
    "calcular_metricas(model, data_loader_validation, threshold_iou = 0.5, threshold_preds = 0.75)"
   ]
  },
  {
   "cell_type": "code",
   "execution_count": 20,
   "metadata": {},
   "outputs": [
    {
     "name": "stdout",
     "output_type": "stream",
     "text": [
      "{'true_positives': tensor(6710), 'false_positives': tensor(1911), 'false_negatives': tensor(3343)}\n",
      "0.5,0.75,0.778331995010376,0.6674624681472778,0.7186462879180908\n"
     ]
    }
   ],
   "source": [
    "calcular_metricas(model, data_loader_test, threshold_iou = 0.5, threshold_preds = 0.75)"
   ]
  },
  {
   "cell_type": "code",
   "execution_count": 33,
   "metadata": {},
   "outputs": [
    {
     "name": "stdout",
     "output_type": "stream",
     "text": [
      "{'true_positives': tensor(7534), 'false_positives': tensor(934), 'false_negatives': tensor(4015)}\n",
      "0.5,0.7,0.8897023797035217,0.6523508429527283,0.752760112285614\n"
     ]
    }
   ],
   "source": [
    "calcular_metricas(model, data_loader_test, threshold_iou = 0.5, threshold_preds = 0.7, show_confusion=True)"
   ]
  },
  {
   "cell_type": "code",
   "execution_count": 18,
   "metadata": {},
   "outputs": [
    {
     "name": "stdout",
     "output_type": "stream",
     "text": [
      "threshold_iou,threshold_preds,precision,recall,f1_score\n",
      "0.1 & 0.7820 & 0.8099 & 0.7957 \\\\\n",
      "0.2 & 0.8415 & 0.7775 & 0.8083 \\\\\n",
      "0.3 & 0.8701 & 0.7547 & 0.8083 \\\\\n",
      "0.4 & 0.8885 & 0.7366 & 0.8054 \\\\\n",
      "0.5 & 0.9008 & 0.7194 & 0.7999 \\\\\n",
      "0.6 & 0.9121 & 0.7010 & 0.7927 \\\\\n",
      "0.7 & 0.9237 & 0.6779 & 0.7819 \\\\\n",
      "0.8 & 0.9334 & 0.6427 & 0.7612 \\\\\n",
      "0.9 & 0.9505 & 0.5620 & 0.7064 \\\\\n"
     ]
    }
   ],
   "source": [
    "print(\"threshold_iou,threshold_preds,precision,recall,f1_score\")\n",
    "for x in range(1, 10):\n",
    "    calcular_metricas(model, data_loader_test, threshold_iou = 0.5, threshold_preds = x/10) #241"
   ]
  },
  {
   "cell_type": "code",
   "execution_count": 19,
   "metadata": {},
   "outputs": [
    {
     "name": "stdout",
     "output_type": "stream",
     "text": [
      "{'true_positives': tensor(9358), 'false_positives': tensor(2608), 'false_negatives': tensor(2196)}\n",
      "0.1 & 0.7820 & 0.8099 & 0.7957 \\\\\n"
     ]
    }
   ],
   "source": [
    "calcular_metricas(model, data_loader_test, threshold_iou = 0.5, threshold_preds = 0.1, show_confusion=True) #241"
   ]
  },
  {
   "cell_type": "code",
   "execution_count": 25,
   "metadata": {},
   "outputs": [
    {
     "name": "stdout",
     "output_type": "stream",
     "text": [
      "threshold_iou,threshold_preds,precision,recall,f1_score\n",
      "0.5,0.1,0.7152000069618225,0.7738249897956848,0.7433583736419678\n",
      "0.5,0.2,0.780720055103302,0.7453034520149231,0.7626007795333862\n",
      "0.5,0.3,0.8152903318405151,0.7257142663002014,0.7678987979888916\n",
      "0.5,0.4,0.8389076590538025,0.7101298570632935,0.7691659331321716\n",
      "0.5,0.5,0.8585329055786133,0.6952117085456848,0.7682886123657227\n",
      "0.5,0.6,0.8729946613311768,0.6785002946853638,0.7635565996170044\n",
      "0.5,0.7,0.8897023797035217,0.6523508429527283,0.752760112285614\n",
      "0.5,0.8,0.9117533564567566,0.6146518588066101,0.7342885136604309\n",
      "Error\n",
      "0.5,0.9,0.9404378533363342,0.506766140460968,0.6586245894432068\n"
     ]
    }
   ],
   "source": [
    "print(\"threshold_iou,threshold_preds,precision,recall,f1_score\")\n",
    "for x in range(1, 10):\n",
    "    calcular_metricas(model, data_loader_test, threshold_iou = 0.5, threshold_preds = x/10) # 145"
   ]
  },
  {
   "cell_type": "code",
   "execution_count": null,
   "metadata": {},
   "outputs": [],
   "source": [
    "def calcular_metricas(model, data_loader, threshold_iou, threshold_preds, show_confusion=False):\n",
    "    model.eval()\n",
    "    dic_confusion = {\"true_positives\": 0, \n",
    "                     \"false_positives\": 0,\n",
    "                     \"false_negatives\": 0}\n",
    "    for images, targets in data_loader:\n",
    "        images = [image.to(device) for image in images]\n",
    "        targets = [{k: v for k, v in t.items()} for t in targets]\n",
    "        output = model(images)\n",
    "        for n in range(len(images)):\n",
    "            pred_boxes = output[\"pred_boxes\"][n].detach()\n",
    "            mask_1d = output[\"pred_logits\"][n]>threshold_preds\n",
    "            mask = torch.cat((mask_1d, mask_1d, mask_1d, mask_1d), 1)\n",
    "            pred_boxes = output[\"pred_boxes\"][n][mask].reshape(-1, 4)\n",
    "            pred_logits = output[\"pred_logits\"][n][mask_1d]\n",
    "            if pred_boxes.shape[0]>0:\n",
    "                pred_boxes = cxcywh_to_xyxy(pred_boxes)\n",
    "                indices = torchvision.ops.nms(pred_boxes, output[\"pred_logits\"][n][mask_1d], 0.5) \n",
    "                pred_boxes = pred_boxes[indices]\n",
    "                true_boxes = xywh_to_xyxy(torch.tensor(targets[n][\"boxes\"]))\n",
    "                calculate_bbox_iou(dic_confusion, pred_boxes, true_boxes, threshold_iou)\n",
    "            else:\n",
    "                print(\"Error\")\n",
    "    if show:\n",
    "        print(dic_confusion)\n",
    "    \n",
    "    roc_curve\n",
    "    \n",
    "    print(f\"{threshold_iou},{threshold_preds},{precision},{recall},{f1_score}\")"
   ]
  }
 ],
 "metadata": {
  "accelerator": "GPU",
  "colab": {
   "provenance": []
  },
  "gpuClass": "standard",
  "kernelspec": {
   "display_name": "Python 3 (ipykernel)",
   "language": "python",
   "name": "python3"
  },
  "language_info": {
   "codemirror_mode": {
    "name": "ipython",
    "version": 3
   },
   "file_extension": ".py",
   "mimetype": "text/x-python",
   "name": "python",
   "nbconvert_exporter": "python",
   "pygments_lexer": "ipython3",
   "version": "3.8.10"
  }
 },
 "nbformat": 4,
 "nbformat_minor": 1
}
