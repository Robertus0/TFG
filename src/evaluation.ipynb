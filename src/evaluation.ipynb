{
 "cells": [
  {
   "cell_type": "code",
   "execution_count": null,
   "metadata": {},
   "outputs": [],
   "source": [
    "import torch"
   ]
  },
  {
   "cell_type": "code",
   "execution_count": null,
   "metadata": {},
   "outputs": [],
   "source": [
    "threshold = 0.75\n",
    "\n",
    "for images, targets in data_loader_train:\n",
    "    images = [image.to(device) for image in images]\n",
    "    targets = [{k: v for k, v in t.items()} for t in targets]\n",
    "    output = model(images)\n",
    "    for n in range(len(images)):\n",
    "    fig, ax = plt.subplots()\n",
    "    image = images[n].cpu().numpy()\n",
    "    image = np.moveaxis(image, 0, -1)\n",
    "    # output[\"pred_boxes\"][n] is [100, 4]\n",
    "    # output[\"pred_logits\"][n] is [100, 1]\n",
    "    # filter out predictions with confidence scores lower than threshold with torch\n",
    "    # make mask of predictions with confidence scores higher than threshold with dimensions [100, 4]\n",
    "    mask = output[\"pred_logits\"][n] > threshold\n",
    "    mask = torch.cat((mask, mask, mask, mask), 1)\n",
    "    # filter out predictions with confidence scores lower than threshold with torch\n",
    "    pred_boxes = output[\"pred_boxes\"][n][mask]\n",
    "    for bounding_box in pred_boxes:\n",
    "        x, y, w, h = bounding_box\n",
    "        x, y, w, h = x*new_size[0], y*new_size[1], w*new_size[0], h*new_size[1]\n",
    "        bb = patches.Rectangle((x, y), w, h, linewidth=1, edgecolor='r', facecolor='none')\n",
    "        ax.add_patch(bb)\n",
    "    ax.imshow(image)\n",
    "    plt.show()"
   ]
  },
  {
   "cell_type": "code",
   "execution_count": null,
   "metadata": {},
   "outputs": [],
   "source": [
    "for images, targets in data_loader_train:\n",
    "    images = [image.to(device) for image in images]\n",
    "    targets = [{k: v for k, v in t.items()} for t in targets]\n",
    "    output = model(images)\n",
    "    for n in range(len(images)):\n",
    "        fig, ax = plt.subplots()\n",
    "        image = images[n].cpu().numpy()\n",
    "        image = np.moveaxis(image, 0, -1)\n",
    "        print(len(targets[n][\"boxes\"]))\n",
    "        print(sum(output[\"pred_logits\"][n]>threshold).item())\n",
    "        pred_boxes = cxcywh_to_xyxy(output[\"pred_boxes\"][n][output[\"pred_logits\"][n]>threshold])\n",
    "        for bounding_box in pred_boxes:\n",
    "            x, y, w, h = bounding_box\n",
    "            x, y, w, h = x*new_size[0], y*new_size[1], w*new_size[0], h*new_size[1]\n",
    "            bb = patches.Rectangle((x, y), w, h, linewidth=1, edgecolor='r', facecolor='none')\n",
    "            ax.add_patch(bb)\n",
    "        ax.imshow(image)\n",
    "        plt.show()"
   ]
  }
 ],
 "metadata": {
  "kernelspec": {
   "display_name": "env",
   "language": "python",
   "name": "python3"
  },
  "language_info": {
   "name": "python",
   "version": "3.9.13"
  },
  "orig_nbformat": 4
 },
 "nbformat": 4,
 "nbformat_minor": 2
}
