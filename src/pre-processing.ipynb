{
 "cells": [
  {
   "attachments": {},
   "cell_type": "markdown",
   "metadata": {},
   "source": [
    "# Extrayendo datos hidraulicos"
   ]
  },
  {
   "cell_type": "code",
   "execution_count": 12,
   "metadata": {},
   "outputs": [],
   "source": [
    "import zipfile\n",
    "import os"
   ]
  },
  {
   "cell_type": "code",
   "execution_count": 13,
   "metadata": {},
   "outputs": [],
   "source": [
    "path_to_zip_file = \"..\\\\data\\\\Zona\\\\shapefiles.zip\"\n",
    "directory_to_extract_to = \"..\\\\data\\\\Zona\\\\zips\"\n",
    "directory_result = \"..\\\\data\\\\Zona\\\\result\"\n",
    "caracteristica_extraer = \"hp\""
   ]
  },
  {
   "cell_type": "code",
   "execution_count": 14,
   "metadata": {},
   "outputs": [],
   "source": [
    "with zipfile.ZipFile(path_to_zip_file, 'r') as zip_ref:\n",
    "    zip_ref.extractall(directory_to_extract_to)"
   ]
  },
  {
   "cell_type": "code",
   "execution_count": 15,
   "metadata": {},
   "outputs": [
    {
     "name": "stdout",
     "output_type": "stream",
     "text": [
      "bt5mv20sh0f286120hp1r060\n",
      "bt5mv20sh0f286121hp1r060\n",
      "bt5mv20sh0f286122hp1r060\n",
      "bt5mv20sh0f287120hp1r060\n",
      "bt5mv20sh0f287121hp1r060\n",
      "bt5mv20sh0f287122hp1r060\n"
     ]
    }
   ],
   "source": [
    "list_filenames = []\n",
    "for zip_file in os.listdir(directory_to_extract_to):\n",
    "    with zipfile.ZipFile(os.path.join(directory_to_extract_to, zip_file), 'r') as zip_ref:\n",
    "        filename = zip_file[:-10]+caracteristica_extraer+zip_file[-9:-4]\n",
    "        list_filenames.append(filename)\n",
    "        print(filename)\n",
    "        for extension in [\".shp\", \".shx\", \".dbf\", \".prj\"]:\n",
    "            zip_ref.extract(filename+extension, path=directory_result)\n"
   ]
  },
  {
   "attachments": {},
   "cell_type": "markdown",
   "metadata": {},
   "source": [
    "# Quitando datos no piscinas"
   ]
  },
  {
   "cell_type": "code",
   "execution_count": 16,
   "metadata": {},
   "outputs": [],
   "source": [
    "import shapefile"
   ]
  },
  {
   "cell_type": "code",
   "execution_count": 17,
   "metadata": {},
   "outputs": [],
   "source": [
    "directory_clean_data = \"..\\\\data\\\\Zona\\\\clean\""
   ]
  },
  {
   "cell_type": "code",
   "execution_count": 30,
   "metadata": {},
   "outputs": [],
   "source": [
    "sf = shapefile.Reader(shp=os.path.join(directory_result, \"bt5mv20sh0f284118hp1r060.shp\"), \n",
    "                      dbf=os.path.join(directory_result, \"bt5mv20sh0f284118hp1r060.dbf\"))"
   ]
  },
  {
   "cell_type": "code",
   "execution_count": 31,
   "metadata": {},
   "outputs": [
    {
     "name": "stdout",
     "output_type": "stream",
     "text": [
      "POLYGONZ\n",
      "[('DeletionFlag', 'C', 1, 0), ['CAS', 'C', 5, 0]]\n",
      "[411410.25, 4599427.53, 414859.76, 4601735.27]\n",
      "FeatureCollection\n",
      "[411871.64, 4601108.67, 411913.28, 4601163.28]\n",
      "[(411871.64, 4601157.36), (411872.03, 4601158.51), (411872.55, 4601159.05), (411873.88, 4601159.88), (411875.2, 4601160.7), (411876.94, 4601161.78), (411878.68, 4601162.86), (411879.69, 4601163.26), (411881.39, 4601163.28), (411883.03, 4601162.81), (411885.5, 4601161.52), (411887.7, 4601159.78), (411892.62, 4601154.72), (411899.57, 4601146.99), (411906.24, 4601138.96), (411906.86, 4601138.17), (411908.72, 4601135.77), (411910.91, 4601132.32), (411911.02, 4601132.04), (411912.38, 4601128.54), (411912.99, 4601124.61), (411913.09, 4601120.65), (411913.03, 4601116.69), (411913.28, 4601113.66), (411913.19, 4601112.24), (411912.56, 4601111.13), (411911.2, 4601109.9), (411909.83, 4601108.67), (411908.26, 4601110.64), (411906.68, 4601112.62), (411905.29, 4601114.16), (411903.77, 4601115.62), (411901.25, 4601117.49), (411898.61, 4601119.19), (411897.02, 4601120.53), (411893.41, 4601124.58), (411890.0, 4601128.81), (411883.91, 4601136.61), (411878.01, 4601144.59), (411874.14, 4601150.22), (411872.59, 4601153.16), (411871.67, 4601156.19), (411871.64, 4601157.36)]\n",
      "0\n"
     ]
    }
   ],
   "source": [
    "print(sf.shapeTypeName)\n",
    "print(sf.fields)\n",
    "print(sf.bbox)\n",
    "print(sf.__geo_interface__['type'])\n",
    "print(sf.shape(0).bbox)\n",
    "print(sf.shape(0).points)\n",
    "print(sf.shape(0).oid)"
   ]
  },
  {
   "cell_type": "code",
   "execution_count": 18,
   "metadata": {},
   "outputs": [
    {
     "name": "stdout",
     "output_type": "stream",
     "text": [
      "0 bt5mv20sh0f286120hp1r060\n",
      "1 bt5mv20sh0f286121hp1r060\n",
      "2 bt5mv20sh0f286122hp1r060\n",
      "3 bt5mv20sh0f287120hp1r060\n",
      "4 bt5mv20sh0f287121hp1r060\n",
      "5 bt5mv20sh0f287122hp1r060\n"
     ]
    }
   ],
   "source": [
    "for n, filename in enumerate(list_filenames):\n",
    "    r = shapefile.Reader(os.path.join(directory_result, filename))\n",
    "    w = shapefile.Writer(os.path.join(directory_clean_data, filename))\n",
    "    w.field(r.fields[1][0])\n",
    "    for shape_id in range(len(r)):\n",
    "        if r.record(shape_id)[0] == 'RAI01':\n",
    "            w.shape(r.shape(shape_id))\n",
    "            w.record(r.record(shape_id)[0])\n",
    "    w.close()\n",
    "    print(n, filename)"
   ]
  },
  {
   "cell_type": "code",
   "execution_count": 50,
   "metadata": {},
   "outputs": [],
   "source": [
    "r = shapefile.Reader(os.path.join(directory_clean_data, \"bt5mv20sh0f284120hp1r060\"))"
   ]
  },
  {
   "cell_type": "code",
   "execution_count": 51,
   "metadata": {},
   "outputs": [
    {
     "name": "stdout",
     "output_type": "stream",
     "text": [
      "Record #0: ['RAI01']\n",
      "Record #1: ['RAI01']\n",
      "Record #2: ['RAI01']\n",
      "Record #3: ['RAI01']\n",
      "Record #4: ['RAI01']\n",
      "Record #5: ['RAI01']\n",
      "Record #6: ['RAI01']\n",
      "Record #7: ['RAI01']\n",
      "Record #8: ['RAI01']\n",
      "Record #9: ['RAI01']\n",
      "Record #10: ['RAI01']\n",
      "Record #11: ['RAI01']\n",
      "Record #12: ['RAI01']\n",
      "Record #13: ['RAI01']\n",
      "Record #14: ['RAI01']\n",
      "Record #15: ['RAI01']\n",
      "Record #16: ['RAI01']\n",
      "Record #17: ['RAI01']\n",
      "Record #18: ['RAI01']\n",
      "Record #19: ['RAI01']\n",
      "Record #20: ['RAI01']\n",
      "Record #21: ['RAI01']\n",
      "Record #22: ['RAI01']\n",
      "Record #23: ['RAI01']\n",
      "Record #24: ['RAI01']\n",
      "Record #25: ['RAI01']\n",
      "Record #26: ['RAI01']\n",
      "Record #27: ['RAI01']\n",
      "Record #28: ['RAI01']\n",
      "Record #29: ['RAI01']\n",
      "Record #30: ['RAI01']\n",
      "Record #31: ['RAI01']\n",
      "Record #32: ['RAI01']\n",
      "Record #33: ['RAI01']\n",
      "Record #34: ['RAI01']\n",
      "Record #35: ['RAI01']\n",
      "Record #36: ['RAI01']\n",
      "Record #37: ['RAI01']\n",
      "Record #38: ['RAI01']\n",
      "Record #39: ['RAI01']\n",
      "Record #40: ['RAI01']\n",
      "Record #41: ['RAI01']\n",
      "Record #42: ['RAI01']\n",
      "Record #43: ['RAI01']\n",
      "Record #44: ['RAI01']\n",
      "Record #45: ['RAI01']\n",
      "Record #46: ['RAI01']\n",
      "Record #47: ['RAI01']\n",
      "Record #48: ['RAI01']\n",
      "Record #49: ['RAI01']\n",
      "Record #50: ['RAI01']\n",
      "Record #51: ['RAI01']\n",
      "Record #52: ['RAI01']\n",
      "Record #53: ['RAI01']\n",
      "Record #54: ['RAI01']\n",
      "Record #55: ['RAI01']\n",
      "Record #56: ['RAI01']\n",
      "Record #57: ['RAI01']\n",
      "Record #58: ['RAI01']\n",
      "Record #59: ['RAI01']\n",
      "Record #60: ['RAI01']\n",
      "Record #61: ['RAI01']\n",
      "Record #62: ['RAI01']\n",
      "Record #63: ['RAI01']\n",
      "Record #64: ['RAI01']\n",
      "Record #65: ['RAI01']\n"
     ]
    }
   ],
   "source": [
    "for shape_id in range(len(r)):\n",
    "    print(r.record(shape_id))"
   ]
  },
  {
   "cell_type": "code",
   "execution_count": 52,
   "metadata": {},
   "outputs": [
    {
     "data": {
      "text/plain": [
       "[('DeletionFlag', 'C', 1, 0), ['CAS', 'C', 50, 0]]"
      ]
     },
     "execution_count": 52,
     "metadata": {},
     "output_type": "execute_result"
    }
   ],
   "source": [
    "r.fields"
   ]
  }
 ],
 "metadata": {
  "kernelspec": {
   "display_name": "env",
   "language": "python",
   "name": "python3"
  },
  "language_info": {
   "codemirror_mode": {
    "name": "ipython",
    "version": 3
   },
   "file_extension": ".py",
   "mimetype": "text/x-python",
   "name": "python",
   "nbconvert_exporter": "python",
   "pygments_lexer": "ipython3",
   "version": "3.9.13"
  },
  "orig_nbformat": 4,
  "vscode": {
   "interpreter": {
    "hash": "0053dad21f9b7f60dfce80eb7ba2a04e7d67243aea089bdeb60e0e192808ba8c"
   }
  }
 },
 "nbformat": 4,
 "nbformat_minor": 2
}
