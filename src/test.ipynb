{
 "cells": [
  {
   "cell_type": "code",
   "execution_count": 3,
   "metadata": {},
   "outputs": [],
   "source": [
    "import torch\n",
    "from scipy.optimize import linear_sum_assignment"
   ]
  },
  {
   "cell_type": "code",
   "execution_count": 14,
   "metadata": {},
   "outputs": [],
   "source": [
    "def hungarian(true, pred):\n",
    "    true_boxes = true['boxes']\n",
    "    true_labels = true['labels']\n",
    "    boxes = pred['boxes']\n",
    "    labels = pred['labels']\n",
    "    # Calculamos el costo de emparejamiento entre las cajas predichas y verdaderas\n",
    "    cost_boxes = torch.cdist(boxes, true_boxes, p=1)\n",
    "    \n",
    "    # Calculamos el costo de emparejamiento entre las etiquetas predichas y verdaderas\n",
    "    cost_labels = torch.cdist(labels, true_labels, p=1)\n",
    "    \n",
    "    # Combinamos los costos\n",
    "    cost = cost_boxes + cost_labels\n",
    "    \n",
    "    # Resolvemos el problema de asignación lineal\n",
    "    row_ind, col_ind = linear_sum_assignment(cost.cpu().detach().numpy())\n",
    "    \n",
    "    # Obtenemos las cajas y etiquetas predichas emparejadas\n",
    "    boxes = boxes[row_ind]\n",
    "    labels = labels[row_ind]\n",
    "    \n",
    "    # Obtenemos las cajas y etiquetas verdaderas emparejadas\n",
    "    true_boxes = true_boxes[col_ind]\n",
    "    true_labels = true_labels[col_ind]\n",
    "    \n",
    "    return {'boxes': boxes, 'labels': labels}, {'boxes': true_boxes, 'labels': true_labels}"
   ]
  },
  {
   "cell_type": "code",
   "execution_count": 25,
   "metadata": {},
   "outputs": [
    {
     "data": {
      "text/plain": [
       "({'boxes': tensor([[0.1000, 0.1000, 0.2000, 0.2000],\n",
       "          [0.3000, 0.3000, 0.4000, 0.4000],\n",
       "          [0.5000, 0.5000, 0.6000, 0.6000]]),\n",
       "  'labels': tensor([[1.0000],\n",
       "          [0.7500],\n",
       "          [0.0000]])},\n",
       " {'boxes': tensor([[0.1000, 0.1000, 0.2000, 0.2000],\n",
       "          [0.3000, 0.3000, 0.4000, 0.4000],\n",
       "          [0.5000, 0.5000, 0.6000, 0.6000]]),\n",
       "  'labels': tensor([[1.],\n",
       "          [0.],\n",
       "          [0.]])})"
      ]
     },
     "execution_count": 25,
     "metadata": {},
     "output_type": "execute_result"
    }
   ],
   "source": [
    "true = {'boxes': torch.tensor([[0.1, 0.1, 0.2, 0.2], [0.3, 0.3, 0.4, 0.4], [0.5, 0.5, 0.6, 0.6]]), 'labels': torch.tensor([1.0, 0.0, 0.0]).unsqueeze(1)}\n",
    "preds = {'boxes': torch.tensor([[0.1, 0.1, 0.2, 0.2], [0.1, 0.1, 0.2, 0.2], [0.3, 0.3, 0.4, 0.4], [0.5, 0.5, 0.6, 0.6]]), 'labels': torch.tensor([1.0, 0.0, 0.75, 0.0]).unsqueeze(1)}\n",
    "hungarian(true, preds)"
   ]
  },
  {
   "cell_type": "code",
   "execution_count": 21,
   "metadata": {},
   "outputs": [
    {
     "data": {
      "text/plain": [
       "torch.Size([3, 1])"
      ]
     },
     "execution_count": 21,
     "metadata": {},
     "output_type": "execute_result"
    }
   ],
   "source": [
    "# calculate l1 loss, iou loss, and classification loss with torch\n",
    "def hungarian_loss(true, pred, l1_weight=1.0, iou_weight=1.0, classification_weight=1.0):\n",
    "    pred, true = hungarian(true, pred)\n",
    "    l1 = torch.nn.functional.l1_loss(pred['boxes'], true['boxes'])\n",
    "    iou = 1 - torch.diag(torchvision.ops.box_iou(pred['boxes'], true['boxes']))\n",
    "    iou = torch.mean(iou)\n",
    "    classification = torch.nn.functional.binary_cross_entropy_with_logits(pred['labels'], true['labels'])\n",
    "    return l1_weight * l1 + iou_weight * iou + classification_weight * classification\n"
   ]
  }
 ],
 "metadata": {
  "kernelspec": {
   "display_name": "env",
   "language": "python",
   "name": "python3"
  },
  "language_info": {
   "codemirror_mode": {
    "name": "ipython",
    "version": 3
   },
   "file_extension": ".py",
   "mimetype": "text/x-python",
   "name": "python",
   "nbconvert_exporter": "python",
   "pygments_lexer": "ipython3",
   "version": "3.9.13"
  },
  "orig_nbformat": 4
 },
 "nbformat": 4,
 "nbformat_minor": 2
}
